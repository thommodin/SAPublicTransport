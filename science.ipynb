{
 "cells": [
  {
   "cell_type": "code",
   "execution_count": 2,
   "id": "7e2620bd",
   "metadata": {
    "scrolled": true
   },
   "outputs": [
    {
     "name": "stdout",
     "output_type": "stream",
     "text": [
      "Loading cached data.pkl file. . .\n",
      "Loaded pickle!\n"
     ]
    }
   ],
   "source": [
    "# load the data, from cache if possible otherwise download!\n",
    "from get_data import load_pickle\n",
    "df = load_pickle()\n",
    "df.dropna(inplace=True)\n",
    "# print(df)"
   ]
  },
  {
   "cell_type": "code",
   "execution_count": 3,
   "id": "b7c74676",
   "metadata": {
    "scrolled": true
   },
   "outputs": [
    {
     "name": "stdout",
     "output_type": "stream",
     "text": [
      "Filtering by transport type. . .\n",
      "Filtering bus. . .\n",
      "Filtering tram. . .\n",
      "Filtering train. . .\n",
      "done!\n"
     ]
    }
   ],
   "source": [
    "# filter for bus, train and tram (1, 4 and 5 respectively)\n",
    "print('Filtering by transport type. . .')\n",
    "print('Filtering bus. . .')\n",
    "bus = df[df['NUM_MODE_TRANSPORT'] == 1].drop(columns=['NUM_MODE_TRANSPORT']).reset_index(drop=True)\n",
    "print('Filtering tram. . .')\n",
    "tram = df[df['NUM_MODE_TRANSPORT'] == 4].drop(columns=['NUM_MODE_TRANSPORT']).reset_index(drop=True)\n",
    "print('Filtering train. . .')\n",
    "train = df[df['NUM_MODE_TRANSPORT'] == 5].drop(columns=['NUM_MODE_TRANSPORT']).reset_index(drop=True)\n",
    "print('done!')"
   ]
  },
  {
   "cell_type": "code",
   "execution_count": 4,
   "id": "f9992b4f",
   "metadata": {
    "scrolled": true
   },
   "outputs": [
    {
     "name": "stdout",
     "output_type": "stream",
     "text": [
      "VALIDATION_DATE\n",
      "2015     5009130\n",
      "2016    20187566\n",
      "2017    19643688\n",
      "2018    20459850\n",
      "2019    24471895\n",
      "2020     8275883\n",
      "2021     6828119\n",
      "Name: BAND_BOARDINGS_FLOOR, dtype: int64\n",
      "VALIDATION_DATE  VALIDATION_DATE\n",
      "2015             1                  150023\n",
      "                 2                  207691\n",
      "                 3                  173991\n",
      "                 4                  162354\n",
      "                 5                  117852\n",
      "                                     ...  \n",
      "2021             8                  531842\n",
      "                 9                  523492\n",
      "                 10                 232282\n",
      "                 11                 236131\n",
      "                 12                 248515\n",
      "Name: BAND_BOARDINGS_FLOOR, Length: 84, dtype: int64\n",
      "VALIDATION_DATE  VALIDATION_DATE  ROUTE_CODE\n",
      "2015             1                0               373\n",
      "                                  BEL            7763\n",
      "                                  GATES         68100\n",
      "                                  GAW            9823\n",
      "                                  GAWC          19067\n",
      "                                                ...  \n",
      "2021             12               GRNG           9960\n",
      "                                  NOAR           3142\n",
      "                                  OSBORN         3434\n",
      "                                  OUTHA         20242\n",
      "                                  SEAFRD        74669\n",
      "Name: BAND_BOARDINGS_FLOOR, Length: 1171, dtype: int64\n"
     ]
    }
   ],
   "source": [
    "import pandas as pd\n",
    "import numpy as np\n",
    "\n",
    "# groups: year, year-month and year-month-route\n",
    "year = [train['VALIDATION_DATE'].dt.year]\n",
    "year_month = [train['VALIDATION_DATE'].dt.year, train['VALIDATION_DATE'].dt.month]\n",
    "year_month_route = [train['VALIDATION_DATE'].dt.year, train['VALIDATION_DATE'].dt.month, train['ROUTE_CODE']]\n",
    "\n",
    "# group by year, year-month and year-month-route\n",
    "year = train['BAND_BOARDINGS_FLOOR'].groupby(by=year).sum()\n",
    "year_month = train['BAND_BOARDINGS_FLOOR'].groupby(by=year_month).sum()\n",
    "year_month_route = train['BAND_BOARDINGS_FLOOR'].groupby(by=year_month_route).sum()\n",
    "\n",
    "# check out groupings\n",
    "print(year)\n",
    "print(year_month)\n",
    "print(year_month_route)"
   ]
  },
  {
   "cell_type": "code",
   "execution_count": null,
   "id": "81a952ee",
   "metadata": {},
   "outputs": [],
   "source": [
    "import seaborn as sns\n"
   ]
  }
 ],
 "metadata": {
  "kernelspec": {
   "display_name": "Python 3 (ipykernel)",
   "language": "python",
   "name": "python3"
  },
  "language_info": {
   "codemirror_mode": {
    "name": "ipython",
    "version": 3
   },
   "file_extension": ".py",
   "mimetype": "text/x-python",
   "name": "python",
   "nbconvert_exporter": "python",
   "pygments_lexer": "ipython3",
   "version": "3.8.10"
  }
 },
 "nbformat": 4,
 "nbformat_minor": 5
}
